{
 "cells": [
  {
   "cell_type": "code",
   "execution_count": 1,
   "id": "ff66a3fb",
   "metadata": {},
   "outputs": [
    {
     "name": "stdout",
     "output_type": "stream",
     "text": [
      "Requirement already satisfied: torch in /home/po/miniconda3/lib/python3.12/site-packages (from -r requirements.txt (line 1)) (2.6.0+cu118)\n",
      "Requirement already satisfied: torchvision in /home/po/miniconda3/lib/python3.12/site-packages (from -r requirements.txt (line 2)) (0.21.0+cu118)\n",
      "Collecting torchsummary (from -r requirements.txt (line 3))\n",
      "  Downloading torchsummary-1.5.1-py3-none-any.whl.metadata (296 bytes)\n",
      "Requirement already satisfied: wandb in /home/po/miniconda3/lib/python3.12/site-packages (from -r requirements.txt (line 4)) (0.19.9)\n",
      "Requirement already satisfied: filelock in /home/po/miniconda3/lib/python3.12/site-packages (from torch->-r requirements.txt (line 1)) (3.13.1)\n",
      "Requirement already satisfied: typing-extensions>=4.10.0 in /home/po/miniconda3/lib/python3.12/site-packages (from torch->-r requirements.txt (line 1)) (4.12.2)\n",
      "Requirement already satisfied: networkx in /home/po/miniconda3/lib/python3.12/site-packages (from torch->-r requirements.txt (line 1)) (3.3)\n",
      "Requirement already satisfied: jinja2 in /home/po/miniconda3/lib/python3.12/site-packages (from torch->-r requirements.txt (line 1)) (3.1.4)\n",
      "Requirement already satisfied: fsspec in /home/po/miniconda3/lib/python3.12/site-packages (from torch->-r requirements.txt (line 1)) (2024.6.1)\n",
      "Requirement already satisfied: nvidia-cuda-nvrtc-cu11==11.8.89 in /home/po/miniconda3/lib/python3.12/site-packages (from torch->-r requirements.txt (line 1)) (11.8.89)\n",
      "Requirement already satisfied: nvidia-cuda-runtime-cu11==11.8.89 in /home/po/miniconda3/lib/python3.12/site-packages (from torch->-r requirements.txt (line 1)) (11.8.89)\n",
      "Requirement already satisfied: nvidia-cuda-cupti-cu11==11.8.87 in /home/po/miniconda3/lib/python3.12/site-packages (from torch->-r requirements.txt (line 1)) (11.8.87)\n",
      "Requirement already satisfied: nvidia-cudnn-cu11==9.1.0.70 in /home/po/miniconda3/lib/python3.12/site-packages (from torch->-r requirements.txt (line 1)) (9.1.0.70)\n",
      "Requirement already satisfied: nvidia-cublas-cu11==11.11.3.6 in /home/po/miniconda3/lib/python3.12/site-packages (from torch->-r requirements.txt (line 1)) (11.11.3.6)\n",
      "Requirement already satisfied: nvidia-cufft-cu11==10.9.0.58 in /home/po/miniconda3/lib/python3.12/site-packages (from torch->-r requirements.txt (line 1)) (10.9.0.58)\n",
      "Requirement already satisfied: nvidia-curand-cu11==10.3.0.86 in /home/po/miniconda3/lib/python3.12/site-packages (from torch->-r requirements.txt (line 1)) (10.3.0.86)\n",
      "Requirement already satisfied: nvidia-cusolver-cu11==11.4.1.48 in /home/po/miniconda3/lib/python3.12/site-packages (from torch->-r requirements.txt (line 1)) (11.4.1.48)\n",
      "Requirement already satisfied: nvidia-cusparse-cu11==11.7.5.86 in /home/po/miniconda3/lib/python3.12/site-packages (from torch->-r requirements.txt (line 1)) (11.7.5.86)\n",
      "Requirement already satisfied: nvidia-nccl-cu11==2.21.5 in /home/po/miniconda3/lib/python3.12/site-packages (from torch->-r requirements.txt (line 1)) (2.21.5)\n",
      "Requirement already satisfied: nvidia-nvtx-cu11==11.8.86 in /home/po/miniconda3/lib/python3.12/site-packages (from torch->-r requirements.txt (line 1)) (11.8.86)\n",
      "Requirement already satisfied: triton==3.2.0 in /home/po/miniconda3/lib/python3.12/site-packages (from torch->-r requirements.txt (line 1)) (3.2.0)\n",
      "Requirement already satisfied: setuptools in /home/po/miniconda3/lib/python3.12/site-packages (from torch->-r requirements.txt (line 1)) (75.8.0)\n",
      "Requirement already satisfied: sympy==1.13.1 in /home/po/miniconda3/lib/python3.12/site-packages (from torch->-r requirements.txt (line 1)) (1.13.1)\n",
      "Requirement already satisfied: mpmath<1.4,>=1.1.0 in /home/po/miniconda3/lib/python3.12/site-packages (from sympy==1.13.1->torch->-r requirements.txt (line 1)) (1.3.0)\n",
      "Requirement already satisfied: numpy in /home/po/miniconda3/lib/python3.12/site-packages (from torchvision->-r requirements.txt (line 2)) (1.26.4)\n",
      "Requirement already satisfied: pillow!=8.3.*,>=5.3.0 in /home/po/miniconda3/lib/python3.12/site-packages (from torchvision->-r requirements.txt (line 2)) (11.0.0)\n",
      "Requirement already satisfied: click!=8.0.0,>=7.1 in /home/po/miniconda3/lib/python3.12/site-packages (from wandb->-r requirements.txt (line 4)) (8.1.8)\n",
      "Requirement already satisfied: docker-pycreds>=0.4.0 in /home/po/miniconda3/lib/python3.12/site-packages (from wandb->-r requirements.txt (line 4)) (0.4.0)\n",
      "Requirement already satisfied: gitpython!=3.1.29,>=1.0.0 in /home/po/miniconda3/lib/python3.12/site-packages (from wandb->-r requirements.txt (line 4)) (3.1.44)\n",
      "Requirement already satisfied: platformdirs in /home/po/miniconda3/lib/python3.12/site-packages (from wandb->-r requirements.txt (line 4)) (3.10.0)\n",
      "Requirement already satisfied: protobuf!=4.21.0,!=5.28.0,<6,>=3.19.0 in /home/po/miniconda3/lib/python3.12/site-packages (from wandb->-r requirements.txt (line 4)) (4.25.7)\n",
      "Requirement already satisfied: psutil>=5.0.0 in /home/po/miniconda3/lib/python3.12/site-packages (from wandb->-r requirements.txt (line 4)) (5.9.0)\n",
      "Requirement already satisfied: pydantic<3 in /home/po/miniconda3/lib/python3.12/site-packages (from wandb->-r requirements.txt (line 4)) (2.10.3)\n",
      "Requirement already satisfied: pyyaml in /home/po/miniconda3/lib/python3.12/site-packages (from wandb->-r requirements.txt (line 4)) (6.0.2)\n",
      "Requirement already satisfied: requests<3,>=2.0.0 in /home/po/miniconda3/lib/python3.12/site-packages (from wandb->-r requirements.txt (line 4)) (2.32.3)\n",
      "Requirement already satisfied: sentry-sdk>=2.0.0 in /home/po/miniconda3/lib/python3.12/site-packages (from wandb->-r requirements.txt (line 4)) (2.26.1)\n",
      "Requirement already satisfied: setproctitle in /home/po/miniconda3/lib/python3.12/site-packages (from wandb->-r requirements.txt (line 4)) (1.3.5)\n",
      "Requirement already satisfied: six>=1.4.0 in /home/po/miniconda3/lib/python3.12/site-packages (from docker-pycreds>=0.4.0->wandb->-r requirements.txt (line 4)) (1.17.0)\n",
      "Requirement already satisfied: gitdb<5,>=4.0.1 in /home/po/miniconda3/lib/python3.12/site-packages (from gitpython!=3.1.29,>=1.0.0->wandb->-r requirements.txt (line 4)) (4.0.12)\n",
      "Requirement already satisfied: annotated-types>=0.6.0 in /home/po/miniconda3/lib/python3.12/site-packages (from pydantic<3->wandb->-r requirements.txt (line 4)) (0.6.0)\n",
      "Requirement already satisfied: pydantic-core==2.27.1 in /home/po/miniconda3/lib/python3.12/site-packages (from pydantic<3->wandb->-r requirements.txt (line 4)) (2.27.1)\n",
      "Requirement already satisfied: charset-normalizer<4,>=2 in /home/po/miniconda3/lib/python3.12/site-packages (from requests<3,>=2.0.0->wandb->-r requirements.txt (line 4)) (3.3.2)\n",
      "Requirement already satisfied: idna<4,>=2.5 in /home/po/miniconda3/lib/python3.12/site-packages (from requests<3,>=2.0.0->wandb->-r requirements.txt (line 4)) (3.7)\n",
      "Requirement already satisfied: urllib3<3,>=1.21.1 in /home/po/miniconda3/lib/python3.12/site-packages (from requests<3,>=2.0.0->wandb->-r requirements.txt (line 4)) (2.3.0)\n",
      "Requirement already satisfied: certifi>=2017.4.17 in /home/po/miniconda3/lib/python3.12/site-packages (from requests<3,>=2.0.0->wandb->-r requirements.txt (line 4)) (2025.1.31)\n",
      "Requirement already satisfied: MarkupSafe>=2.0 in /home/po/miniconda3/lib/python3.12/site-packages (from jinja2->torch->-r requirements.txt (line 1)) (2.1.5)\n",
      "Requirement already satisfied: smmap<6,>=3.0.1 in /home/po/miniconda3/lib/python3.12/site-packages (from gitdb<5,>=4.0.1->gitpython!=3.1.29,>=1.0.0->wandb->-r requirements.txt (line 4)) (5.0.2)\n",
      "Downloading torchsummary-1.5.1-py3-none-any.whl (2.8 kB)\n",
      "Installing collected packages: torchsummary\n",
      "Successfully installed torchsummary-1.5.1\n"
     ]
    }
   ],
   "source": [
    "!pip install -r requirements.txt"
   ]
  },
  {
   "cell_type": "code",
   "execution_count": 2,
   "id": "1a878cba",
   "metadata": {},
   "outputs": [
    {
     "name": "stdout",
     "output_type": "stream",
     "text": [
      "Device: cpu\n"
     ]
    }
   ],
   "source": [
    "import torch\n",
    "import torch.nn as nn\n",
    "import torch.nn.functional as F\n",
    "from torchsummary import summary\n",
    "from torchvision import datasets, transforms\n",
    "import os\n",
    "import wandb\n",
    "import torch.optim as optim\n",
    "from torch.utils.data import DataLoader, Subset\n",
    "from sklearn.model_selection import StratifiedShuffleSplit\n",
    "from tqdm import tqdm\n",
    "import matplotlib.pyplot as plt\n",
    "import numpy as np\n",
    "import random\n",
    "\n",
    "\n",
    "device = torch.device(\"cuda\" if torch.cuda.is_available() else \"cpu\")\n",
    "print(\"Device:\", device)"
   ]
  },
  {
   "cell_type": "code",
   "execution_count": null,
   "id": "dd832764",
   "metadata": {},
   "outputs": [],
   "source": [
    "data_dir = os.path.join('nature_12K', 'inaturalist_12K')\n",
    "train_dir = os.path.join(data_dir, 'train')\n",
    "best_model_path = \"best_models\"\n",
    "os.makedirs(best_model_path, exist_ok=True)\n",
    "\n",
    "print(\"Data directory:\", data_dir)"
   ]
  }
 ],
 "metadata": {
  "kernelspec": {
   "display_name": "base",
   "language": "python",
   "name": "python3"
  },
  "language_info": {
   "codemirror_mode": {
    "name": "ipython",
    "version": 3
   },
   "file_extension": ".py",
   "mimetype": "text/x-python",
   "name": "python",
   "nbconvert_exporter": "python",
   "pygments_lexer": "ipython3",
   "version": "3.12.9"
  }
 },
 "nbformat": 4,
 "nbformat_minor": 5
}
