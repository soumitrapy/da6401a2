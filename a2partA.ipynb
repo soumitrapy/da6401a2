{
  "cells": [
    {
      "cell_type": "markdown",
      "metadata": {
        "id": "view-in-github",
        "colab_type": "text"
      },
      "source": [
        "<a href=\"https://colab.research.google.com/github/soumitrapy/da6401a2/blob/main/a2partA.ipynb\" target=\"_parent\"><img src=\"https://colab.research.google.com/assets/colab-badge.svg\" alt=\"Open In Colab\"/></a>"
      ]
    },
    {
      "cell_type": "code",
      "execution_count": 2,
      "id": "ff66a3fb",
      "metadata": {
        "id": "ff66a3fb"
      },
      "outputs": [],
      "source": [
        "# !pip install -q -r requirements.txt"
      ]
    },
    {
      "cell_type": "code",
      "execution_count": 1,
      "id": "1a878cba",
      "metadata": {
        "colab": {
          "base_uri": "https://localhost:8080/"
        },
        "id": "1a878cba",
        "outputId": "351e4aa2-ec54-4ca9-fecc-c08ca595f8d1"
      },
      "outputs": [
        {
          "output_type": "stream",
          "name": "stdout",
          "text": [
            "Device: cuda\n"
          ]
        }
      ],
      "source": [
        "import torch\n",
        "import torch.nn as nn\n",
        "import torch.nn.functional as F\n",
        "from torchsummary import summary\n",
        "from torchvision import datasets, transforms\n",
        "import os\n",
        "import wandb\n",
        "import torch.optim as optim\n",
        "from torch.utils.data import DataLoader, Subset\n",
        "from sklearn.model_selection import StratifiedShuffleSplit\n",
        "from tqdm import tqdm\n",
        "import matplotlib.pyplot as plt\n",
        "import numpy as np\n",
        "import random\n",
        "\n",
        "\n",
        "device = torch.device(\"cuda\" if torch.cuda.is_available() else \"cpu\")\n",
        "print(\"Device:\", device)"
      ]
    },
    {
      "cell_type": "code",
      "source": [
        "!wget https://storage.googleapis.com/wandb_datasets/nature_12K.zip\n",
        "!unzip -q nature_12K.zip"
      ],
      "metadata": {
        "colab": {
          "base_uri": "https://localhost:8080/"
        },
        "id": "x9keaaS8Ft6V",
        "outputId": "e8ea2cae-c2d9-48f3-ced9-9f21767a7e12"
      },
      "id": "x9keaaS8Ft6V",
      "execution_count": 2,
      "outputs": [
        {
          "output_type": "stream",
          "name": "stdout",
          "text": [
            "--2025-05-05 16:02:24--  https://storage.googleapis.com/wandb_datasets/nature_12K.zip\n",
            "Resolving storage.googleapis.com (storage.googleapis.com)... 142.251.12.207, 172.217.194.207, 142.250.4.207, ...\n",
            "Connecting to storage.googleapis.com (storage.googleapis.com)|142.251.12.207|:443... connected.\n",
            "HTTP request sent, awaiting response... 200 OK\n",
            "Length: 3816687935 (3.6G) [application/zip]\n",
            "Saving to: ‘nature_12K.zip’\n",
            "\n",
            "nature_12K.zip      100%[===================>]   3.55G  18.6MB/s    in 3m 4s   \n",
            "\n",
            "2025-05-05 16:05:29 (19.8 MB/s) - ‘nature_12K.zip’ saved [3816687935/3816687935]\n",
            "\n"
          ]
        }
      ]
    },
    {
      "cell_type": "code",
      "execution_count": 3,
      "id": "dd832764",
      "metadata": {
        "colab": {
          "base_uri": "https://localhost:8080/"
        },
        "id": "dd832764",
        "outputId": "12f3b2bd-e9ba-4e3b-e054-7e179767e417"
      },
      "outputs": [
        {
          "output_type": "stream",
          "name": "stdout",
          "text": [
            "Data directory: inaturalist_12K\n"
          ]
        }
      ],
      "source": [
        "data_dir = 'inaturalist_12K'\n",
        "train_dir = os.path.join(data_dir, 'train')\n",
        "best_model_path = \"best_models\"\n",
        "os.makedirs(best_model_path, exist_ok=True)\n",
        "\n",
        "print(\"Data directory:\", data_dir)"
      ]
    },
    {
      "cell_type": "code",
      "source": [
        "\n",
        "\n",
        "def get_data_loaders(config):\n",
        "    # Constants\n",
        "    BATCH_SIZE = config.get(\"batch_size\", 64)\n",
        "    IMAGE_SIZE = 224\n",
        "\n",
        "\n",
        "    # Augmentation logic\n",
        "    if config.get(\"augment\", False):\n",
        "        print(\"Applying full data augmentation\")\n",
        "        transform_train = transforms.Compose([\n",
        "            transforms.Resize((IMAGE_SIZE, IMAGE_SIZE)),\n",
        "            transforms.RandomHorizontalFlip(),\n",
        "            transforms.RandomVerticalFlip(),\n",
        "            transforms.RandomRotation(20),\n",
        "            transforms.ColorJitter(brightness=0.3, contrast=0.3, saturation=0.3, hue=0.02),\n",
        "            transforms.RandomGrayscale(p=0.1),\n",
        "            transforms.RandomAffine(degrees=0, translate=(0.1, 0.1)),\n",
        "            transforms.ToTensor(),\n",
        "            transforms.Normalize([0.5], [0.5]),\n",
        "        ])\n",
        "    else:\n",
        "        print(\"Minimal preprocessing, no augmentation\")\n",
        "        transform_train = transforms.Compose([\n",
        "            transforms.Resize((IMAGE_SIZE, IMAGE_SIZE)),\n",
        "            transforms.ToTensor(),\n",
        "            transforms.Normalize([0.5], [0.5]),\n",
        "        ])\n",
        "\n",
        "    transform_val = transforms.Compose([\n",
        "        transforms.Resize((IMAGE_SIZE, IMAGE_SIZE)),\n",
        "        transforms.ToTensor(),\n",
        "        transforms.Normalize([0.5], [0.5]),\n",
        "    ])\n",
        "\n",
        "    # Load full training dataset\n",
        "    full_dataset = datasets.ImageFolder(root=train_dir, transform=transform_train)\n",
        "    targets = np.array(full_dataset.targets)\n",
        "\n",
        "    # Stratified split\n",
        "    sss = StratifiedShuffleSplit(n_splits=1, test_size=0.2, random_state=42)\n",
        "    train_idx, val_idx = next(sss.split(np.zeros(len(targets)), targets))\n",
        "\n",
        "    # Subsets with respective transforms\n",
        "    train_dataset = Subset(full_dataset, train_idx)\n",
        "    val_dataset = Subset(datasets.ImageFolder(root=train_dir, transform=transform_val), val_idx)\n",
        "\n",
        "    # DataLoaders\n",
        "    train_loader = DataLoader(train_dataset, batch_size=BATCH_SIZE, shuffle=True, num_workers=2)\n",
        "    val_loader = DataLoader(val_dataset, batch_size=BATCH_SIZE, shuffle=False, num_workers=2)\n",
        "\n",
        "    # Info\n",
        "    print(f\"Total images: {len(full_dataset)}\")\n",
        "    print(f\"Training set: {len(train_dataset)} images\")\n",
        "    print(f\"Validation set: {len(val_dataset)} images\")\n",
        "    print(f\"Number of classes: {len(full_dataset.classes)}\")\n",
        "\n",
        "    return train_loader, val_loader #, len(full_dataset.classes)"
      ],
      "metadata": {
        "id": "H6q7_c6uGeaU"
      },
      "id": "H6q7_c6uGeaU",
      "execution_count": 4,
      "outputs": []
    },
    {
      "cell_type": "code",
      "source": [
        "class SmallCNN(nn.Module):\n",
        "    def __init__(self, num_filters, activation_fn, kernel_size, dense_neurons, num_classes=1010, dropout_rate=0.2, batch_norm=False):\n",
        "        super().__init__()\n",
        "\n",
        "        act_fn = {\n",
        "            'relu': nn.ReLU(),\n",
        "            'gelu': nn.GELU(),\n",
        "            'silu': nn.SiLU(),\n",
        "            'mish': nn.Mish()\n",
        "        }[activation_fn]\n",
        "\n",
        "        layers = []\n",
        "        in_channels = 3\n",
        "\n",
        "        for nf in num_filters:\n",
        "            layers.append(nn.Conv2d(in_channels, nf, kernel_size=kernel_size, padding=kernel_size//2))\n",
        "            if batch_norm:\n",
        "                layers.append(nn.BatchNorm2d(nf))\n",
        "            layers.append(act_fn)\n",
        "            layers.append(nn.MaxPool2d(kernel_size=2))\n",
        "            in_channels = nf\n",
        "\n",
        "        self.feature_extractor = nn.Sequential(*layers)\n",
        "        self.flatten = nn.Flatten()\n",
        "        self.dropout = nn.Dropout(dropout_rate)\n",
        "        self.dense = nn.Linear(num_filters[-1] * 7 * 7, dense_neurons)\n",
        "        self.output = nn.Linear(dense_neurons, num_classes)\n",
        "\n",
        "    def forward(self, x):\n",
        "        x = self.feature_extractor(x)\n",
        "        x = self.flatten(x)\n",
        "        x = self.dropout(x)\n",
        "        x = self.dense(x)\n",
        "        x = self.output(x)\n",
        "        return x\n"
      ],
      "metadata": {
        "id": "OMLx2A-_Gm0l"
      },
      "id": "OMLx2A-_Gm0l",
      "execution_count": 5,
      "outputs": []
    },
    {
      "cell_type": "code",
      "source": [
        "def train_one_epoch(model, loader, optimizer, criterion, device):\n",
        "    model.train()\n",
        "    running_loss, correct, total = 0.0, 0, 0\n",
        "    for images, labels in tqdm(loader):\n",
        "        images, labels = images.to(device), labels.to(device)\n",
        "        optimizer.zero_grad()\n",
        "        outputs = model(images)\n",
        "        loss = criterion(outputs, labels)\n",
        "        loss.backward()\n",
        "        optimizer.step()\n",
        "        running_loss += loss.item() * images.size(0)\n",
        "        _, predicted = outputs.max(1)\n",
        "        correct += predicted.eq(labels).sum().item()\n",
        "        total += labels.size(0)\n",
        "    return running_loss / total, correct / total\n",
        "\n",
        "def evaluate(model, loader, criterion, device):\n",
        "    model.eval()\n",
        "    val_loss, correct, total = 0.0, 0, 0\n",
        "    with torch.no_grad():\n",
        "        for images, labels in loader:\n",
        "            images, labels = images.to(device), labels.to(device)\n",
        "            outputs = model(images)\n",
        "            loss = criterion(outputs, labels)\n",
        "            val_loss += loss.item() * images.size(0)\n",
        "            _, predicted = outputs.max(1)\n",
        "            correct += predicted.eq(labels).sum().item()\n",
        "            total += labels.size(0)\n",
        "    return val_loss / total, correct / total\n"
      ],
      "metadata": {
        "id": "d_fxAFyBHP89"
      },
      "id": "d_fxAFyBHP89",
      "execution_count": 6,
      "outputs": []
    },
    {
      "cell_type": "code",
      "source": [
        "PROJECT_NAME = \"Assignment2DL\"\n",
        "ENTITY_NAME = \"soumitrapy-iit-madras\""
      ],
      "metadata": {
        "id": "d6T4eZYpHRJz"
      },
      "id": "d6T4eZYpHRJz",
      "execution_count": 7,
      "outputs": []
    },
    {
      "cell_type": "code",
      "source": [
        "def sweep_train():\n",
        "    wandb.init(project=PROJECT_NAME, entity=ENTITY_NAME)\n",
        "    config = wandb.config\n",
        "    device = torch.device(\"cuda\" if torch.cuda.is_available() else \"cpu\")\n",
        "\n",
        "    # Compute num_filters based on filter_organization\n",
        "    num_layers = 5\n",
        "    if config.filter_organization == \"same\":\n",
        "        filters = [config.filters_base] * num_layers\n",
        "    elif config.filter_organization == \"double\":\n",
        "        filters = [config.filters_base * (2 ** i) for i in range(num_layers)]\n",
        "    elif config.filter_organization == \"half\":\n",
        "        # filters = [max(config.filters_base // (2 ** i), 1) for i in range(num_layers)]\n",
        "        filters = [config.filters_base * (2 ** i) for i in range(num_layers)]\n",
        "        filters = filters[::-1]  # Reverse the order\n",
        "    else:\n",
        "        raise ValueError(f\"Unknown filter organization: {config.filter_organization}\")\n",
        "\n",
        "    wandb.run.name = (\n",
        "        f\"fbase_{config.filters_base}_\"\n",
        "        f\"forg_{config.filter_organization}_\"\n",
        "        f\"act_{config.activation}_\"\n",
        "        f\"k_{config.kernel_size}_\"\n",
        "        f\"drop_{config.dropout}_\"\n",
        "        f\"bn_{config.batch_norm}_\"\n",
        "        f\"lr_{config.lr:.5f}_\"\n",
        "        f\"aug_{config.augment}_\"\n",
        "        f\"ep_{config.epochs}_\"\n",
        "        f\"bs_{config.batch_size}_\"\n",
        "        f\"n_{config.dense_neurons}\"\n",
        "    )\n",
        "    wandb.run.save()\n",
        "\n",
        "    # DataLoader\n",
        "    train_loader, val_loader = get_data_loaders(\n",
        "        {\n",
        "        \"batch_size\":config.batch_size,\n",
        "        \"augment\":config.augment\n",
        "        }\n",
        "    )\n",
        "\n",
        "    # Model\n",
        "    model = SmallCNN(\n",
        "        num_filters=filters,\n",
        "        activation_fn=config.activation,\n",
        "        kernel_size=config.kernel_size,\n",
        "        dense_neurons=config.dense_neurons,\n",
        "        dropout_rate=config.dropout,\n",
        "        batch_norm=config.batch_norm\n",
        "    ).to(device)\n",
        "\n",
        "    optimizer = optim.Adam(model.parameters(), lr=config.lr)\n",
        "    criterion = nn.CrossEntropyLoss()\n",
        "    best_val_acc = 0.0\n",
        "\n",
        "    for epoch in range(config.epochs):\n",
        "        train_loss, train_acc = train_one_epoch(model, train_loader, optimizer, criterion, device)\n",
        "        val_loss, val_acc = evaluate(model, val_loader, criterion, device)\n",
        "\n",
        "        wandb.log({\n",
        "            \"epoch\": epoch + 1,\n",
        "            \"train_loss\": train_loss,\n",
        "            \"train_accuracy\": train_acc,\n",
        "            \"val_loss\": val_loss,\n",
        "            \"val_accuracy\": val_acc\n",
        "        })\n",
        "        print(f\"Epoch {epoch + 1}/{config.epochs} - \"\n",
        "              f\"Train Loss: {train_loss:.4f}, Train Acc: {train_acc:.4f} - \"\n",
        "              f\"Val Loss: {val_loss:.4f}, Val Acc: {val_acc:.4f}\")\n",
        "\n",
        "        # Save best model\n",
        "        if val_acc > best_val_acc:\n",
        "            best_val_acc = val_acc\n",
        "            # torch.save(model.state_dict(), os.path.join(best_model_path, \"partA.pth\"))\n",
        "            torch.save(model, os.path.join(best_model_path, \"partA.pth\"))\n",
        "            wandb.save(\"best_model_A.pth\")\n"
      ],
      "metadata": {
        "id": "8C_x-TO7KiGH"
      },
      "id": "8C_x-TO7KiGH",
      "execution_count": 8,
      "outputs": []
    },
    {
      "cell_type": "code",
      "source": [
        "sweep_config = {\n",
        "    \"method\": \"bayes\",\n",
        "    \"metric\": {\"name\": \"val_accuracy\", \"goal\": \"maximize\"},\n",
        "    \"parameters\": {\n",
        "        \"filters_base\": {\"values\": [3, 8, 16, 32, 64]},\n",
        "        \"filter_organization\": {\"values\": [\"same\", \"double\", \"half\"]},\n",
        "        \"activation\": {\"values\": [\"relu\", \"gelu\", \"silu\", \"mish\"]},\n",
        "        \"kernel_size\": {\"values\": [3, 5]},\n",
        "        \"dense_neurons\": {\"values\": [256, 512]},\n",
        "        \"batch_norm\": {\"values\": [True, False]},\n",
        "        \"dropout\": {\"values\": [0.2, 0.3]},\n",
        "        \"lr\": {\"distribution\": \"uniform\", \"min\": 0.0001, \"max\": 0.01},\n",
        "        \"batch_size\": {\"values\": [32, 64]},\n",
        "        \"augment\": {\"values\": [True, False]},\n",
        "        \"epochs\": {\"values\": [5, 10, 15]}\n",
        "    }\n",
        "}\n",
        "sweep_id = wandb.sweep(sweep_config, project=PROJECT_NAME, entity=ENTITY_NAME)\n",
        "wandb.agent(sweep_id, function=sweep_train, count=20)  # Adjust count as needed\n",
        "wandb.finish()"
      ],
      "metadata": {
        "colab": {
          "base_uri": "https://localhost:8080/",
          "height": 1000
        },
        "id": "MbcuAx1kLDg1",
        "outputId": "fc87e9e8-a663-410f-b5fb-2fbec48fb89c"
      },
      "id": "MbcuAx1kLDg1",
      "execution_count": null,
      "outputs": [
        {
          "output_type": "stream",
          "name": "stdout",
          "text": [
            "Create sweep with ID: foax10l6\n",
            "Sweep URL: https://wandb.ai/soumitrapy-iit-madras/Assignment2DL/sweeps/foax10l6\n"
          ]
        },
        {
          "output_type": "stream",
          "name": "stderr",
          "text": [
            "\u001b[34m\u001b[1mwandb\u001b[0m: Agent Starting Run: xiln6pgk with config:\n",
            "\u001b[34m\u001b[1mwandb\u001b[0m: \tactivation: relu\n",
            "\u001b[34m\u001b[1mwandb\u001b[0m: \taugment: False\n",
            "\u001b[34m\u001b[1mwandb\u001b[0m: \tbatch_norm: True\n",
            "\u001b[34m\u001b[1mwandb\u001b[0m: \tbatch_size: 64\n",
            "\u001b[34m\u001b[1mwandb\u001b[0m: \tdense_neurons: 256\n",
            "\u001b[34m\u001b[1mwandb\u001b[0m: \tdropout: 0.2\n",
            "\u001b[34m\u001b[1mwandb\u001b[0m: \tepochs: 15\n",
            "\u001b[34m\u001b[1mwandb\u001b[0m: \tfilter_organization: same\n",
            "\u001b[34m\u001b[1mwandb\u001b[0m: \tfilters_base: 16\n",
            "\u001b[34m\u001b[1mwandb\u001b[0m: \tkernel_size: 5\n",
            "\u001b[34m\u001b[1mwandb\u001b[0m: \tlr: 0.009694559989766843\n"
          ]
        },
        {
          "output_type": "display_data",
          "data": {
            "text/plain": [
              "<IPython.core.display.HTML object>"
            ],
            "text/html": [
              "Ignoring project 'Assignment2DL' when running a sweep."
            ]
          },
          "metadata": {}
        },
        {
          "output_type": "display_data",
          "data": {
            "text/plain": [
              "<IPython.core.display.HTML object>"
            ],
            "text/html": [
              "Ignoring entity 'soumitrapy-iit-madras' when running a sweep."
            ]
          },
          "metadata": {}
        },
        {
          "output_type": "display_data",
          "data": {
            "text/plain": [
              "<IPython.core.display.HTML object>"
            ],
            "text/html": [
              "Tracking run with wandb version 0.19.10"
            ]
          },
          "metadata": {}
        },
        {
          "output_type": "display_data",
          "data": {
            "text/plain": [
              "<IPython.core.display.HTML object>"
            ],
            "text/html": [
              "Run data is saved locally in <code>/content/wandb/run-20250505_161444-xiln6pgk</code>"
            ]
          },
          "metadata": {}
        },
        {
          "output_type": "display_data",
          "data": {
            "text/plain": [
              "<IPython.core.display.HTML object>"
            ],
            "text/html": [
              "Syncing run <strong><a href='https://wandb.ai/soumitrapy-iit-madras/Assignment2DL/runs/xiln6pgk' target=\"_blank\">devout-sweep-1</a></strong> to <a href='https://wandb.ai/soumitrapy-iit-madras/Assignment2DL' target=\"_blank\">Weights & Biases</a> (<a href='https://wandb.me/developer-guide' target=\"_blank\">docs</a>)<br>Sweep page: <a href='https://wandb.ai/soumitrapy-iit-madras/Assignment2DL/sweeps/foax10l6' target=\"_blank\">https://wandb.ai/soumitrapy-iit-madras/Assignment2DL/sweeps/foax10l6</a>"
            ]
          },
          "metadata": {}
        },
        {
          "output_type": "display_data",
          "data": {
            "text/plain": [
              "<IPython.core.display.HTML object>"
            ],
            "text/html": [
              " View project at <a href='https://wandb.ai/soumitrapy-iit-madras/Assignment2DL' target=\"_blank\">https://wandb.ai/soumitrapy-iit-madras/Assignment2DL</a>"
            ]
          },
          "metadata": {}
        },
        {
          "output_type": "display_data",
          "data": {
            "text/plain": [
              "<IPython.core.display.HTML object>"
            ],
            "text/html": [
              " View sweep at <a href='https://wandb.ai/soumitrapy-iit-madras/Assignment2DL/sweeps/foax10l6' target=\"_blank\">https://wandb.ai/soumitrapy-iit-madras/Assignment2DL/sweeps/foax10l6</a>"
            ]
          },
          "metadata": {}
        },
        {
          "output_type": "display_data",
          "data": {
            "text/plain": [
              "<IPython.core.display.HTML object>"
            ],
            "text/html": [
              " View run at <a href='https://wandb.ai/soumitrapy-iit-madras/Assignment2DL/runs/xiln6pgk' target=\"_blank\">https://wandb.ai/soumitrapy-iit-madras/Assignment2DL/runs/xiln6pgk</a>"
            ]
          },
          "metadata": {}
        },
        {
          "output_type": "stream",
          "name": "stdout",
          "text": [
            "Minimal preprocessing, no augmentation\n",
            "Total images: 9999\n",
            "Training set: 7999 images\n",
            "Validation set: 2000 images\n",
            "Number of classes: 10\n"
          ]
        },
        {
          "output_type": "stream",
          "name": "stderr",
          "text": [
            "100%|██████████| 125/125 [01:22<00:00,  1.51it/s]\n"
          ]
        },
        {
          "output_type": "stream",
          "name": "stdout",
          "text": [
            "Epoch 1/15 - Train Loss: 3.6307, Train Acc: 0.1154 - Val Loss: 2.2984, Val Acc: 0.1325\n"
          ]
        },
        {
          "output_type": "stream",
          "name": "stderr",
          "text": [
            "100%|██████████| 125/125 [01:22<00:00,  1.51it/s]\n"
          ]
        },
        {
          "output_type": "stream",
          "name": "stdout",
          "text": [
            "Epoch 2/15 - Train Loss: 2.2584, Train Acc: 0.1624 - Val Loss: 2.2299, Val Acc: 0.1715\n"
          ]
        },
        {
          "output_type": "stream",
          "name": "stderr",
          "text": [
            "100%|██████████| 125/125 [01:40<00:00,  1.25it/s]\n"
          ]
        },
        {
          "output_type": "stream",
          "name": "stdout",
          "text": [
            "Epoch 3/15 - Train Loss: 2.1761, Train Acc: 0.2087 - Val Loss: 2.1719, Val Acc: 0.2210\n"
          ]
        },
        {
          "output_type": "stream",
          "name": "stderr",
          "text": [
            "100%|██████████| 125/125 [01:18<00:00,  1.59it/s]\n"
          ]
        },
        {
          "output_type": "stream",
          "name": "stdout",
          "text": [
            "Epoch 4/15 - Train Loss: 2.1390, Train Acc: 0.2189 - Val Loss: 2.1098, Val Acc: 0.2300\n"
          ]
        },
        {
          "output_type": "stream",
          "name": "stderr",
          "text": [
            "100%|██████████| 125/125 [01:20<00:00,  1.55it/s]\n"
          ]
        },
        {
          "output_type": "stream",
          "name": "stdout",
          "text": [
            "Epoch 5/15 - Train Loss: 2.1005, Train Acc: 0.2344 - Val Loss: 2.1356, Val Acc: 0.2345\n"
          ]
        },
        {
          "output_type": "stream",
          "name": "stderr",
          "text": [
            "100%|██████████| 125/125 [01:24<00:00,  1.48it/s]\n"
          ]
        },
        {
          "output_type": "stream",
          "name": "stdout",
          "text": [
            "Epoch 6/15 - Train Loss: 2.0673, Train Acc: 0.2514 - Val Loss: 2.0674, Val Acc: 0.2525\n"
          ]
        },
        {
          "output_type": "stream",
          "name": "stderr",
          "text": [
            "100%|██████████| 125/125 [01:17<00:00,  1.62it/s]\n"
          ]
        },
        {
          "output_type": "stream",
          "name": "stdout",
          "text": [
            "Epoch 7/15 - Train Loss: 2.0434, Train Acc: 0.2638 - Val Loss: 2.0521, Val Acc: 0.2530\n"
          ]
        },
        {
          "output_type": "stream",
          "name": "stderr",
          "text": [
            "100%|██████████| 125/125 [01:18<00:00,  1.59it/s]\n"
          ]
        },
        {
          "output_type": "stream",
          "name": "stdout",
          "text": [
            "Epoch 8/15 - Train Loss: 2.0204, Train Acc: 0.2753 - Val Loss: 2.0543, Val Acc: 0.2725\n"
          ]
        },
        {
          "output_type": "stream",
          "name": "stderr",
          "text": [
            "100%|██████████| 125/125 [01:18<00:00,  1.59it/s]\n"
          ]
        },
        {
          "output_type": "stream",
          "name": "stdout",
          "text": [
            "Epoch 9/15 - Train Loss: 2.0110, Train Acc: 0.2752 - Val Loss: 2.0472, Val Acc: 0.2670\n"
          ]
        },
        {
          "output_type": "stream",
          "name": "stderr",
          "text": [
            "100%|██████████| 125/125 [01:18<00:00,  1.60it/s]\n"
          ]
        },
        {
          "output_type": "stream",
          "name": "stdout",
          "text": [
            "Epoch 10/15 - Train Loss: 1.9796, Train Acc: 0.2915 - Val Loss: 2.0820, Val Acc: 0.2635\n"
          ]
        },
        {
          "output_type": "stream",
          "name": "stderr",
          "text": [
            "100%|██████████| 125/125 [01:18<00:00,  1.59it/s]\n"
          ]
        },
        {
          "output_type": "stream",
          "name": "stdout",
          "text": [
            "Epoch 11/15 - Train Loss: 1.9489, Train Acc: 0.3075 - Val Loss: 2.0008, Val Acc: 0.2935\n"
          ]
        },
        {
          "output_type": "stream",
          "name": "stderr",
          "text": [
            "100%|██████████| 125/125 [01:24<00:00,  1.48it/s]\n"
          ]
        },
        {
          "output_type": "stream",
          "name": "stdout",
          "text": [
            "Epoch 12/15 - Train Loss: 1.9345, Train Acc: 0.3128 - Val Loss: 1.9878, Val Acc: 0.2845\n"
          ]
        },
        {
          "output_type": "stream",
          "name": "stderr",
          "text": [
            "100%|██████████| 125/125 [01:17<00:00,  1.62it/s]\n"
          ]
        },
        {
          "output_type": "stream",
          "name": "stdout",
          "text": [
            "Epoch 13/15 - Train Loss: 1.9217, Train Acc: 0.3103 - Val Loss: 2.0115, Val Acc: 0.2780\n"
          ]
        },
        {
          "output_type": "stream",
          "name": "stderr",
          "text": [
            "100%|██████████| 125/125 [01:16<00:00,  1.63it/s]\n"
          ]
        },
        {
          "output_type": "stream",
          "name": "stdout",
          "text": [
            "Epoch 14/15 - Train Loss: 1.8901, Train Acc: 0.3272 - Val Loss: 1.9953, Val Acc: 0.2940\n"
          ]
        },
        {
          "output_type": "stream",
          "name": "stderr",
          "text": [
            "100%|██████████| 125/125 [01:16<00:00,  1.64it/s]\n"
          ]
        },
        {
          "output_type": "stream",
          "name": "stdout",
          "text": [
            "Epoch 15/15 - Train Loss: 1.8723, Train Acc: 0.3397 - Val Loss: 1.9932, Val Acc: 0.2925\n"
          ]
        },
        {
          "output_type": "display_data",
          "data": {
            "text/plain": [
              "<IPython.core.display.HTML object>"
            ],
            "text/html": []
          },
          "metadata": {}
        },
        {
          "output_type": "display_data",
          "data": {
            "text/plain": [
              "<IPython.core.display.HTML object>"
            ],
            "text/html": [
              "<br>    <style><br>        .wandb-row {<br>            display: flex;<br>            flex-direction: row;<br>            flex-wrap: wrap;<br>            justify-content: flex-start;<br>            width: 100%;<br>        }<br>        .wandb-col {<br>            display: flex;<br>            flex-direction: column;<br>            flex-basis: 100%;<br>            flex: 1;<br>            padding: 10px;<br>        }<br>    </style><br><div class=\"wandb-row\"><div class=\"wandb-col\"><h3>Run history:</h3><br/><table class=\"wandb\"><tr><td>epoch</td><td>▁▁▂▃▃▃▄▅▅▅▆▇▇▇█</td></tr><tr><td>train_accuracy</td><td>▁▂▄▄▅▅▆▆▆▆▇▇▇██</td></tr><tr><td>train_loss</td><td>█▃▂▂▂▂▂▂▂▁▁▁▁▁▁</td></tr><tr><td>val_accuracy</td><td>▁▃▅▅▅▆▆▇▇▇██▇██</td></tr><tr><td>val_loss</td><td>█▆▅▄▄▃▂▂▂▃▁▁▂▁▁</td></tr></table><br/></div><div class=\"wandb-col\"><h3>Run summary:</h3><br/><table class=\"wandb\"><tr><td>epoch</td><td>15</td></tr><tr><td>train_accuracy</td><td>0.33967</td></tr><tr><td>train_loss</td><td>1.87227</td></tr><tr><td>val_accuracy</td><td>0.2925</td></tr><tr><td>val_loss</td><td>1.99322</td></tr></table><br/></div></div>"
            ]
          },
          "metadata": {}
        },
        {
          "output_type": "display_data",
          "data": {
            "text/plain": [
              "<IPython.core.display.HTML object>"
            ],
            "text/html": [
              " View run <strong style=\"color:#cdcd00\">fbase_16_forg_same_act_relu_k_5_drop_0.2_bn_True_lr_0.00969_aug_False_ep_15_bs_64_n_256</strong> at: <a href='https://wandb.ai/soumitrapy-iit-madras/Assignment2DL/runs/xiln6pgk' target=\"_blank\">https://wandb.ai/soumitrapy-iit-madras/Assignment2DL/runs/xiln6pgk</a><br> View project at: <a href='https://wandb.ai/soumitrapy-iit-madras/Assignment2DL' target=\"_blank\">https://wandb.ai/soumitrapy-iit-madras/Assignment2DL</a><br>Synced 5 W&B file(s), 0 media file(s), 0 artifact file(s) and 0 other file(s)"
            ]
          },
          "metadata": {}
        },
        {
          "output_type": "display_data",
          "data": {
            "text/plain": [
              "<IPython.core.display.HTML object>"
            ],
            "text/html": [
              "Find logs at: <code>./wandb/run-20250505_161444-xiln6pgk/logs</code>"
            ]
          },
          "metadata": {}
        },
        {
          "output_type": "stream",
          "name": "stderr",
          "text": [
            "\u001b[34m\u001b[1mwandb\u001b[0m: Agent Starting Run: cpj5ywu2 with config:\n",
            "\u001b[34m\u001b[1mwandb\u001b[0m: \tactivation: gelu\n",
            "\u001b[34m\u001b[1mwandb\u001b[0m: \taugment: False\n",
            "\u001b[34m\u001b[1mwandb\u001b[0m: \tbatch_norm: False\n",
            "\u001b[34m\u001b[1mwandb\u001b[0m: \tbatch_size: 32\n",
            "\u001b[34m\u001b[1mwandb\u001b[0m: \tdense_neurons: 512\n",
            "\u001b[34m\u001b[1mwandb\u001b[0m: \tdropout: 0.3\n",
            "\u001b[34m\u001b[1mwandb\u001b[0m: \tepochs: 15\n",
            "\u001b[34m\u001b[1mwandb\u001b[0m: \tfilter_organization: half\n",
            "\u001b[34m\u001b[1mwandb\u001b[0m: \tfilters_base: 32\n",
            "\u001b[34m\u001b[1mwandb\u001b[0m: \tkernel_size: 3\n",
            "\u001b[34m\u001b[1mwandb\u001b[0m: \tlr: 0.005979726706845963\n"
          ]
        },
        {
          "output_type": "display_data",
          "data": {
            "text/plain": [
              "<IPython.core.display.HTML object>"
            ],
            "text/html": [
              "Ignoring project 'Assignment2DL' when running a sweep."
            ]
          },
          "metadata": {}
        },
        {
          "output_type": "display_data",
          "data": {
            "text/plain": [
              "<IPython.core.display.HTML object>"
            ],
            "text/html": [
              "Ignoring entity 'soumitrapy-iit-madras' when running a sweep."
            ]
          },
          "metadata": {}
        },
        {
          "output_type": "display_data",
          "data": {
            "text/plain": [
              "<IPython.core.display.HTML object>"
            ],
            "text/html": [
              "Tracking run with wandb version 0.19.10"
            ]
          },
          "metadata": {}
        },
        {
          "output_type": "display_data",
          "data": {
            "text/plain": [
              "<IPython.core.display.HTML object>"
            ],
            "text/html": [
              "Run data is saved locally in <code>/content/wandb/run-20250505_164000-cpj5ywu2</code>"
            ]
          },
          "metadata": {}
        },
        {
          "output_type": "display_data",
          "data": {
            "text/plain": [
              "<IPython.core.display.HTML object>"
            ],
            "text/html": [
              "Syncing run <strong><a href='https://wandb.ai/soumitrapy-iit-madras/Assignment2DL/runs/cpj5ywu2' target=\"_blank\">glorious-sweep-2</a></strong> to <a href='https://wandb.ai/soumitrapy-iit-madras/Assignment2DL' target=\"_blank\">Weights & Biases</a> (<a href='https://wandb.me/developer-guide' target=\"_blank\">docs</a>)<br>Sweep page: <a href='https://wandb.ai/soumitrapy-iit-madras/Assignment2DL/sweeps/foax10l6' target=\"_blank\">https://wandb.ai/soumitrapy-iit-madras/Assignment2DL/sweeps/foax10l6</a>"
            ]
          },
          "metadata": {}
        },
        {
          "output_type": "display_data",
          "data": {
            "text/plain": [
              "<IPython.core.display.HTML object>"
            ],
            "text/html": [
              " View project at <a href='https://wandb.ai/soumitrapy-iit-madras/Assignment2DL' target=\"_blank\">https://wandb.ai/soumitrapy-iit-madras/Assignment2DL</a>"
            ]
          },
          "metadata": {}
        },
        {
          "output_type": "display_data",
          "data": {
            "text/plain": [
              "<IPython.core.display.HTML object>"
            ],
            "text/html": [
              " View sweep at <a href='https://wandb.ai/soumitrapy-iit-madras/Assignment2DL/sweeps/foax10l6' target=\"_blank\">https://wandb.ai/soumitrapy-iit-madras/Assignment2DL/sweeps/foax10l6</a>"
            ]
          },
          "metadata": {}
        },
        {
          "output_type": "display_data",
          "data": {
            "text/plain": [
              "<IPython.core.display.HTML object>"
            ],
            "text/html": [
              " View run at <a href='https://wandb.ai/soumitrapy-iit-madras/Assignment2DL/runs/cpj5ywu2' target=\"_blank\">https://wandb.ai/soumitrapy-iit-madras/Assignment2DL/runs/cpj5ywu2</a>"
            ]
          },
          "metadata": {}
        },
        {
          "output_type": "stream",
          "name": "stdout",
          "text": [
            "Minimal preprocessing, no augmentation\n",
            "Total images: 9999\n",
            "Training set: 7999 images\n",
            "Validation set: 2000 images\n",
            "Number of classes: 10\n"
          ]
        },
        {
          "output_type": "stream",
          "name": "stderr",
          "text": [
            "100%|██████████| 250/250 [02:25<00:00,  1.72it/s]\n"
          ]
        },
        {
          "output_type": "stream",
          "name": "stdout",
          "text": [
            "Epoch 1/15 - Train Loss: 6.8212, Train Acc: 0.1059 - Val Loss: 2.2925, Val Acc: 0.1325\n"
          ]
        },
        {
          "output_type": "stream",
          "name": "stderr",
          "text": [
            "100%|██████████| 250/250 [02:24<00:00,  1.73it/s]\n"
          ]
        },
        {
          "output_type": "stream",
          "name": "stdout",
          "text": [
            "Epoch 2/15 - Train Loss: 2.3077, Train Acc: 0.1124 - Val Loss: 2.3107, Val Acc: 0.1035\n"
          ]
        },
        {
          "output_type": "stream",
          "name": "stderr",
          "text": [
            "100%|██████████| 250/250 [02:23<00:00,  1.74it/s]\n"
          ]
        },
        {
          "output_type": "stream",
          "name": "stdout",
          "text": [
            "Epoch 3/15 - Train Loss: 2.3040, Train Acc: 0.1095 - Val Loss: 2.3072, Val Acc: 0.1000\n"
          ]
        },
        {
          "output_type": "stream",
          "name": "stderr",
          "text": [
            "100%|██████████| 250/250 [02:23<00:00,  1.74it/s]\n"
          ]
        },
        {
          "output_type": "stream",
          "name": "stdout",
          "text": [
            "Epoch 4/15 - Train Loss: 2.3084, Train Acc: 0.1105 - Val Loss: 2.3122, Val Acc: 0.1000\n"
          ]
        },
        {
          "output_type": "stream",
          "name": "stderr",
          "text": [
            "100%|██████████| 250/250 [02:22<00:00,  1.75it/s]\n"
          ]
        },
        {
          "output_type": "stream",
          "name": "stdout",
          "text": [
            "Epoch 5/15 - Train Loss: 2.3134, Train Acc: 0.0981 - Val Loss: 2.3113, Val Acc: 0.1000\n"
          ]
        },
        {
          "output_type": "stream",
          "name": "stderr",
          "text": [
            "100%|██████████| 250/250 [02:22<00:00,  1.75it/s]\n"
          ]
        },
        {
          "output_type": "stream",
          "name": "stdout",
          "text": [
            "Epoch 6/15 - Train Loss: 2.3107, Train Acc: 0.0974 - Val Loss: 2.3094, Val Acc: 0.1000\n"
          ]
        },
        {
          "output_type": "stream",
          "name": "stderr",
          "text": [
            "100%|██████████| 250/250 [02:22<00:00,  1.75it/s]\n"
          ]
        },
        {
          "output_type": "stream",
          "name": "stdout",
          "text": [
            "Epoch 7/15 - Train Loss: 2.3121, Train Acc: 0.0985 - Val Loss: 2.3168, Val Acc: 0.1000\n"
          ]
        },
        {
          "output_type": "stream",
          "name": "stderr",
          "text": [
            "  3%|▎         | 7/250 [00:05<02:29,  1.62it/s]"
          ]
        }
      ]
    },
    {
      "cell_type": "markdown",
      "source": [
        "### Prediction with best model"
      ],
      "metadata": {
        "id": "5_DjhKt2PK5O"
      },
      "id": "5_DjhKt2PK5O"
    },
    {
      "cell_type": "code",
      "source": [
        "\n",
        "\n",
        "# Reuse best known hyperparameters from your sweep\n",
        "best_config = {\n",
        "    \"num_filters\": [8, 16, 32, 64, 128],     # Filter sizes in each conv layer\n",
        "    \"kernel_size\": 3,                           # Convolution kernel size\n",
        "    \"activation\": \"silu\",                       # Activation function\n",
        "    \"use_batchnorm\": True,                      # BatchNorm after conv?\n",
        "    \"dropout\": 0.3,                             # Dropout rate\n",
        "    \"dense_neurons\": 256,                       # FC layer size before classifier\n",
        "    \"num_classes\": 10,                        # Number of output classes\n",
        "    \"lr\": 0.00107,                                 # Learning rate\n",
        "    \"batch_size\": 64,                           # Just for tracking, if dynamic\n",
        "    \"augment\": False,                            # If data augmentation is used\n",
        "    \"epochs\": 10                                # Number of training epochs\n",
        "}\n",
        "\n",
        "# Device setup\n",
        "device = torch.device(\"cuda\" if torch.cuda.is_available() else \"cpu\")\n",
        "\n",
        "# Instantiate model\n",
        "# Instantiate model\n",
        "best_model = SmallCNN(\n",
        "    num_filters=best_config[\"num_filters\"],\n",
        "    kernel_size=best_config[\"kernel_size\"],\n",
        "    activation_fn=best_config[\"activation\"],\n",
        "    batch_norm=best_config[\"use_batchnorm\"],\n",
        "    dropout_rate=best_config[\"dropout\"],\n",
        "    dense_neurons=best_config[\"dense_neurons\"],\n",
        "    num_classes=best_config[\"num_classes\"]\n",
        ").to(device)\n",
        "\n",
        "\n",
        "# DataLoader\n",
        "train_loader, val_loader = get_data_loaders(\n",
        "        {\n",
        "        \"batch_size\": best_config[\"batch_size\"],\n",
        "        \"augment\": best_config[\"augment\"]\n",
        "\n",
        "        }\n",
        "    )\n",
        "# Load or Train Model\n",
        "try:\n",
        "    # best_model = torch.load(os.path.join(best_model_path, \"partA.pth\"))\n",
        "    torch.serialization.add_safe_globals([SmallCNN])\n",
        "    best_model = torch.load(os.path.join(best_model_path, \"partA.pth\"), weights_only=False)\n",
        "    print(\"Loaded best_model.pth\")\n",
        "except (FileNotFoundError, RuntimeError) as e:\n",
        "    print(\"best_model.pth not found or incompatible. Training the model...\")\n",
        "\n",
        "    # Initialize wandb\n",
        "    wandb.init(project=PROJECT_NAME, entity=ENTITY_NAME, name=\"retrained_best_model\", config=best_config)\n",
        "\n",
        "    # Optimizer & Loss\n",
        "    optimizer = torch.optim.Adam(best_model.parameters(), lr=best_config[\"lr\"])\n",
        "    criterion = torch.nn.CrossEntropyLoss()\n",
        "\n",
        "    best_val_acc = 0.0\n",
        "    for epoch in range(best_config[\"epochs\"]):\n",
        "        train_loss, train_acc = train_one_epoch(best_model, train_loader, optimizer, criterion, device)\n",
        "        val_loss, val_acc = evaluate(best_model, val_loader, criterion, device)\n",
        "\n",
        "        print(f\"[Epoch {epoch+1}] Train Acc: {train_acc:.4f} | Val Acc: {val_acc:.4f}\")\n",
        "\n",
        "        # Log metrics to wandb\n",
        "        wandb.log({\n",
        "            \"epoch\": epoch + 1,\n",
        "            \"train_loss\": train_loss,\n",
        "            \"train_accuracy\": train_acc,\n",
        "            \"val_loss\": val_loss,\n",
        "            \"val_accuracy\": val_acc\n",
        "        })\n",
        "\n",
        "    torch.save(best_model, os.path.join(best_model_path, \"partA.pth\"))\n",
        "\n",
        "    print(\"Saved new best_model.pth\")\n",
        "\n",
        "    wandb.finish()\n",
        "\n",
        "# Set to evaluation mode for testing/inference\n",
        "best_model.eval()"
      ],
      "metadata": {
        "id": "fhs5keLCLHRK"
      },
      "id": "fhs5keLCLHRK",
      "execution_count": null,
      "outputs": []
    },
    {
      "cell_type": "code",
      "source": [
        "test_transform = transforms.Compose([\n",
        "    transforms.Resize((224, 224)),  # match training image size\n",
        "    transforms.ToTensor(),\n",
        "    transforms.Normalize([0.5], [0.5]),  # match training normalization\n",
        "])\n",
        "\n",
        "\n",
        "test_dataset = datasets.ImageFolder(os.path.join(data_dir,'val'), transform=test_transform)\n",
        "test_loader = DataLoader(test_dataset, batch_size=64, shuffle=False)"
      ],
      "metadata": {
        "id": "nGQXYIdCPc-W"
      },
      "id": "nGQXYIdCPc-W",
      "execution_count": null,
      "outputs": []
    },
    {
      "cell_type": "code",
      "source": [
        "\n",
        "from sklearn.metrics import accuracy_score\n",
        "\n",
        "all_preds = []\n",
        "all_labels = []\n",
        "\n",
        "best_model.eval()\n",
        "with torch.no_grad():\n",
        "    for images, labels in tqdm(test_loader):\n",
        "        images, labels = images.to(device), labels.to(device)\n",
        "        outputs = best_model(images)\n",
        "        preds = outputs.argmax(dim=1)\n",
        "        all_preds.extend(preds.cpu().numpy())\n",
        "        all_labels.extend(labels.cpu().numpy())\n",
        "\n",
        "test_accuracy = accuracy_score(all_labels, all_preds)\n",
        "\n",
        "# Print it\n",
        "print(f\" Final Test Accuracy: {test_accuracy:.4f}\")\n",
        "\n",
        "# Log to wandb (if active)\n",
        "if wandb.run is not None:\n",
        "    wandb.log({\"test_accuracy\": test_accuracy})\n"
      ],
      "metadata": {
        "id": "_ZXrToHRPiA-"
      },
      "id": "_ZXrToHRPiA-",
      "execution_count": null,
      "outputs": []
    },
    {
      "cell_type": "code",
      "source": [
        "\n",
        "\n",
        "# Randomly pick 30 test images\n",
        "indices = random.sample(range(len(test_dataset)), 30)\n",
        "fig, axes = plt.subplots(10, 3, figsize=(12, 30))\n",
        "\n",
        "for ax, idx in zip(axes.flatten(), indices):\n",
        "    img, true_label = test_dataset[idx]\n",
        "    model_input = img.unsqueeze(0).to(device)\n",
        "\n",
        "    with torch.no_grad():\n",
        "        pred = best_model(model_input).argmax().item()\n",
        "\n",
        "    # De-normalize for visualization\n",
        "    img_np = img.permute(1, 2, 0).numpy()\n",
        "    img_np = np.clip((img_np * 0.5) + 0.5, 0, 1)\n",
        "\n",
        "    ax.imshow(img_np)\n",
        "    ax.set_title(f\"Pred: {test_dataset.classes[pred]}\")\n",
        "    ax.axis('off')\n",
        "\n",
        "plt.tight_layout()\n",
        "plt.savefig(\"test_predictions_grid.png\")  # Save the plot\n",
        "\n",
        "# Log to wandb\n",
        "if wandb.run is not None:\n",
        "    wandb.log({\n",
        "        \"Test Prediction Grid\": wandb.Image(\"test_predictions_grid.png\")\n",
        "    })\n",
        "\n",
        "plt.show()"
      ],
      "metadata": {
        "id": "HcCd3OUGPm1U"
      },
      "id": "HcCd3OUGPm1U",
      "execution_count": null,
      "outputs": []
    }
  ],
  "metadata": {
    "kernelspec": {
      "display_name": "Python 3",
      "name": "python3"
    },
    "language_info": {
      "codemirror_mode": {
        "name": "ipython",
        "version": 3
      },
      "file_extension": ".py",
      "mimetype": "text/x-python",
      "name": "python",
      "nbconvert_exporter": "python",
      "pygments_lexer": "ipython3",
      "version": "3.12.9"
    },
    "colab": {
      "provenance": [],
      "gpuType": "T4",
      "include_colab_link": true
    },
    "accelerator": "GPU"
  },
  "nbformat": 4,
  "nbformat_minor": 5
}