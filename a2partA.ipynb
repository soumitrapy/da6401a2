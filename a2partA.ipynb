{
  "cells": [
    {
      "cell_type": "markdown",
      "metadata": {
        "id": "view-in-github",
        "colab_type": "text"
      },
      "source": [
        "<a href=\"https://colab.research.google.com/github/soumitrapy/da6401a2/blob/main/a2partA.ipynb\" target=\"_parent\"><img src=\"https://colab.research.google.com/assets/colab-badge.svg\" alt=\"Open In Colab\"/></a>"
      ]
    },
    {
      "cell_type": "code",
      "execution_count": 2,
      "id": "ff66a3fb",
      "metadata": {
        "id": "ff66a3fb"
      },
      "outputs": [],
      "source": [
        "# !pip install -q -r requirements.txt"
      ]
    },
    {
      "cell_type": "code",
      "execution_count": 4,
      "id": "1a878cba",
      "metadata": {
        "colab": {
          "base_uri": "https://localhost:8080/"
        },
        "id": "1a878cba",
        "outputId": "7c1b75ed-8033-41a9-e09d-aeabf25aa56c"
      },
      "outputs": [
        {
          "output_type": "stream",
          "name": "stdout",
          "text": [
            "Device: cpu\n"
          ]
        }
      ],
      "source": [
        "import torch\n",
        "import torch.nn as nn\n",
        "import torch.nn.functional as F\n",
        "from torchsummary import summary\n",
        "from torchvision import datasets, transforms\n",
        "import os\n",
        "import wandb\n",
        "import torch.optim as optim\n",
        "from torch.utils.data import DataLoader, Subset\n",
        "from sklearn.model_selection import StratifiedShuffleSplit\n",
        "from tqdm import tqdm\n",
        "import matplotlib.pyplot as plt\n",
        "import numpy as np\n",
        "import random\n",
        "\n",
        "\n",
        "device = torch.device(\"cuda\" if torch.cuda.is_available() else \"cpu\")\n",
        "print(\"Device:\", device)"
      ]
    },
    {
      "cell_type": "code",
      "source": [
        "!wget https://storage.googleapis.com/wandb_datasets/nature_12K.zip\n",
        "!unzip -q nature_12K.zip"
      ],
      "metadata": {
        "colab": {
          "base_uri": "https://localhost:8080/"
        },
        "id": "x9keaaS8Ft6V",
        "outputId": "f44d76fd-a41c-4272-d294-bb729f966cac"
      },
      "id": "x9keaaS8Ft6V",
      "execution_count": 5,
      "outputs": [
        {
          "output_type": "stream",
          "name": "stdout",
          "text": [
            "--2025-05-05 15:36:04--  https://storage.googleapis.com/wandb_datasets/nature_12K.zip\n",
            "Resolving storage.googleapis.com (storage.googleapis.com)... 173.194.217.207, 108.177.12.207, 108.177.11.207, ...\n",
            "Connecting to storage.googleapis.com (storage.googleapis.com)|173.194.217.207|:443... connected.\n",
            "HTTP request sent, awaiting response... 200 OK\n",
            "Length: 3816687935 (3.6G) [application/zip]\n",
            "Saving to: ‘nature_12K.zip’\n",
            "\n",
            "nature_12K.zip      100%[===================>]   3.55G  80.0MB/s    in 50s     \n",
            "\n",
            "2025-05-05 15:36:54 (73.1 MB/s) - ‘nature_12K.zip’ saved [3816687935/3816687935]\n",
            "\n"
          ]
        }
      ]
    },
    {
      "cell_type": "code",
      "execution_count": 8,
      "id": "dd832764",
      "metadata": {
        "colab": {
          "base_uri": "https://localhost:8080/"
        },
        "id": "dd832764",
        "outputId": "6450167a-5b1b-4f22-e71a-ed682aca9d1f"
      },
      "outputs": [
        {
          "output_type": "stream",
          "name": "stdout",
          "text": [
            "Data directory: inaturalist_12K\n"
          ]
        }
      ],
      "source": [
        "data_dir = 'inaturalist_12K'\n",
        "train_dir = os.path.join(data_dir, 'train')\n",
        "best_model_path = \"best_models\"\n",
        "os.makedirs(best_model_path, exist_ok=True)\n",
        "\n",
        "print(\"Data directory:\", data_dir)"
      ]
    },
    {
      "cell_type": "code",
      "source": [
        "\n",
        "\n",
        "def get_data_loaders(config):\n",
        "    # Constants\n",
        "    BATCH_SIZE = config.get(\"batch_size\", 64)\n",
        "    IMAGE_SIZE = 224\n",
        "\n",
        "\n",
        "    # Augmentation logic\n",
        "    if config.get(\"augment\", False):\n",
        "        print(\"Applying full data augmentation\")\n",
        "        transform_train = transforms.Compose([\n",
        "            transforms.Resize((IMAGE_SIZE, IMAGE_SIZE)),\n",
        "            transforms.RandomHorizontalFlip(),\n",
        "            transforms.RandomVerticalFlip(),\n",
        "            transforms.RandomRotation(20),\n",
        "            transforms.ColorJitter(brightness=0.3, contrast=0.3, saturation=0.3, hue=0.02),\n",
        "            transforms.RandomGrayscale(p=0.1),\n",
        "            transforms.RandomAffine(degrees=0, translate=(0.1, 0.1)),\n",
        "            transforms.ToTensor(),\n",
        "            transforms.Normalize([0.5], [0.5]),\n",
        "        ])\n",
        "    else:\n",
        "        print(\"Minimal preprocessing, no augmentation\")\n",
        "        transform_train = transforms.Compose([\n",
        "            transforms.Resize((IMAGE_SIZE, IMAGE_SIZE)),\n",
        "            transforms.ToTensor(),\n",
        "            transforms.Normalize([0.5], [0.5]),\n",
        "        ])\n",
        "\n",
        "    transform_val = transforms.Compose([\n",
        "        transforms.Resize((IMAGE_SIZE, IMAGE_SIZE)),\n",
        "        transforms.ToTensor(),\n",
        "        transforms.Normalize([0.5], [0.5]),\n",
        "    ])\n",
        "\n",
        "    # Load full training dataset\n",
        "    full_dataset = datasets.ImageFolder(root=train_dir, transform=transform_train)\n",
        "    targets = np.array(full_dataset.targets)\n",
        "\n",
        "    # Stratified split\n",
        "    sss = StratifiedShuffleSplit(n_splits=1, test_size=0.2, random_state=42)\n",
        "    train_idx, val_idx = next(sss.split(np.zeros(len(targets)), targets))\n",
        "\n",
        "    # Subsets with respective transforms\n",
        "    train_dataset = Subset(full_dataset, train_idx)\n",
        "    val_dataset = Subset(datasets.ImageFolder(root=train_dir, transform=transform_val), val_idx)\n",
        "\n",
        "    # DataLoaders\n",
        "    train_loader = DataLoader(train_dataset, batch_size=BATCH_SIZE, shuffle=True, num_workers=2)\n",
        "    val_loader = DataLoader(val_dataset, batch_size=BATCH_SIZE, shuffle=False, num_workers=2)\n",
        "\n",
        "    # Info\n",
        "    print(f\"Total images: {len(full_dataset)}\")\n",
        "    print(f\"Training set: {len(train_dataset)} images\")\n",
        "    print(f\"Validation set: {len(val_dataset)} images\")\n",
        "    print(f\"Number of classes: {len(full_dataset.classes)}\")\n",
        "\n",
        "    return train_loader, val_loader #, len(full_dataset.classes)"
      ],
      "metadata": {
        "id": "H6q7_c6uGeaU"
      },
      "id": "H6q7_c6uGeaU",
      "execution_count": 9,
      "outputs": []
    },
    {
      "cell_type": "code",
      "source": [
        "class SmallCNN(nn.Module):\n",
        "    def __init__(self, num_filters, activation_fn, kernel_size, dense_neurons, num_classes=1010, dropout_rate=0.2, batch_norm=False):\n",
        "        super().__init__()\n",
        "\n",
        "        act_fn = {\n",
        "            'relu': nn.ReLU(),\n",
        "            'gelu': nn.GELU(),\n",
        "            'silu': nn.SiLU(),\n",
        "            'mish': nn.Mish()\n",
        "        }[activation_fn]\n",
        "\n",
        "        layers = []\n",
        "        in_channels = 3\n",
        "\n",
        "        for nf in num_filters:\n",
        "            layers.append(nn.Conv2d(in_channels, nf, kernel_size=kernel_size, padding=kernel_size//2))\n",
        "            if batch_norm:\n",
        "                layers.append(nn.BatchNorm2d(nf))\n",
        "            layers.append(act_fn)\n",
        "            layers.append(nn.MaxPool2d(kernel_size=2))\n",
        "            in_channels = nf\n",
        "\n",
        "        self.feature_extractor = nn.Sequential(*layers)\n",
        "        self.flatten = nn.Flatten()\n",
        "        self.dropout = nn.Dropout(dropout_rate)\n",
        "        self.dense = nn.Linear(num_filters[-1] * 7 * 7, dense_neurons)\n",
        "        self.output = nn.Linear(dense_neurons, num_classes)\n",
        "\n",
        "    def forward(self, x):\n",
        "        x = self.feature_extractor(x)\n",
        "        x = self.flatten(x)\n",
        "        x = self.dropout(x)\n",
        "        x = self.dense(x)\n",
        "        x = self.output(x)\n",
        "        return x\n"
      ],
      "metadata": {
        "id": "OMLx2A-_Gm0l"
      },
      "id": "OMLx2A-_Gm0l",
      "execution_count": 10,
      "outputs": []
    },
    {
      "cell_type": "code",
      "source": [
        "def train_one_epoch(model, loader, optimizer, criterion, device):\n",
        "    model.train()\n",
        "    running_loss, correct, total = 0.0, 0, 0\n",
        "    for images, labels in tqdm(loader):\n",
        "        images, labels = images.to(device), labels.to(device)\n",
        "        optimizer.zero_grad()\n",
        "        outputs = model(images)\n",
        "        loss = criterion(outputs, labels)\n",
        "        loss.backward()\n",
        "        optimizer.step()\n",
        "        running_loss += loss.item() * images.size(0)\n",
        "        _, predicted = outputs.max(1)\n",
        "        correct += predicted.eq(labels).sum().item()\n",
        "        total += labels.size(0)\n",
        "    return running_loss / total, correct / total\n",
        "\n",
        "def evaluate(model, loader, criterion, device):\n",
        "    model.eval()\n",
        "    val_loss, correct, total = 0.0, 0, 0\n",
        "    with torch.no_grad():\n",
        "        for images, labels in loader:\n",
        "            images, labels = images.to(device), labels.to(device)\n",
        "            outputs = model(images)\n",
        "            loss = criterion(outputs, labels)\n",
        "            val_loss += loss.item() * images.size(0)\n",
        "            _, predicted = outputs.max(1)\n",
        "            correct += predicted.eq(labels).sum().item()\n",
        "            total += labels.size(0)\n",
        "    return val_loss / total, correct / total\n"
      ],
      "metadata": {
        "id": "d_fxAFyBHP89"
      },
      "id": "d_fxAFyBHP89",
      "execution_count": 11,
      "outputs": []
    },
    {
      "cell_type": "code",
      "source": [
        "PROJECT_NAME = \"da24m029-da6401-assignment2\"\n",
        "ENTITY_NAME = \"da24m029-indian-institute-of-technology-madras\""
      ],
      "metadata": {
        "id": "d6T4eZYpHRJz"
      },
      "id": "d6T4eZYpHRJz",
      "execution_count": null,
      "outputs": []
    }
  ],
  "metadata": {
    "kernelspec": {
      "display_name": "base",
      "language": "python",
      "name": "python3"
    },
    "language_info": {
      "codemirror_mode": {
        "name": "ipython",
        "version": 3
      },
      "file_extension": ".py",
      "mimetype": "text/x-python",
      "name": "python",
      "nbconvert_exporter": "python",
      "pygments_lexer": "ipython3",
      "version": "3.12.9"
    },
    "colab": {
      "provenance": [],
      "include_colab_link": true
    }
  },
  "nbformat": 4,
  "nbformat_minor": 5
}