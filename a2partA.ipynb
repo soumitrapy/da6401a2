{
  "cells": [
    {
      "cell_type": "code",
      "execution_count": 2,
      "id": "ff66a3fb",
      "metadata": {
        "id": "ff66a3fb"
      },
      "outputs": [],
      "source": [
        "# !pip install -q -r requirements.txt"
      ]
    },
    {
      "cell_type": "code",
      "execution_count": 4,
      "id": "1a878cba",
      "metadata": {
        "colab": {
          "base_uri": "https://localhost:8080/"
        },
        "id": "1a878cba",
        "outputId": "7c1b75ed-8033-41a9-e09d-aeabf25aa56c"
      },
      "outputs": [
        {
          "output_type": "stream",
          "name": "stdout",
          "text": [
            "Device: cpu\n"
          ]
        }
      ],
      "source": [
        "import torch\n",
        "import torch.nn as nn\n",
        "import torch.nn.functional as F\n",
        "from torchsummary import summary\n",
        "from torchvision import datasets, transforms\n",
        "import os\n",
        "import wandb\n",
        "import torch.optim as optim\n",
        "from torch.utils.data import DataLoader, Subset\n",
        "from sklearn.model_selection import StratifiedShuffleSplit\n",
        "from tqdm import tqdm\n",
        "import matplotlib.pyplot as plt\n",
        "import numpy as np\n",
        "import random\n",
        "\n",
        "\n",
        "device = torch.device(\"cuda\" if torch.cuda.is_available() else \"cpu\")\n",
        "print(\"Device:\", device)"
      ]
    },
    {
      "cell_type": "code",
      "source": [
        "!wget https://storage.googleapis.com/wandb_datasets/nature_12K.zip\n",
        "!unzip -q nature_12K.zip"
      ],
      "metadata": {
        "colab": {
          "base_uri": "https://localhost:8080/"
        },
        "id": "x9keaaS8Ft6V",
        "outputId": "f44d76fd-a41c-4272-d294-bb729f966cac"
      },
      "id": "x9keaaS8Ft6V",
      "execution_count": 5,
      "outputs": [
        {
          "output_type": "stream",
          "name": "stdout",
          "text": [
            "--2025-05-05 15:36:04--  https://storage.googleapis.com/wandb_datasets/nature_12K.zip\n",
            "Resolving storage.googleapis.com (storage.googleapis.com)... 173.194.217.207, 108.177.12.207, 108.177.11.207, ...\n",
            "Connecting to storage.googleapis.com (storage.googleapis.com)|173.194.217.207|:443... connected.\n",
            "HTTP request sent, awaiting response... 200 OK\n",
            "Length: 3816687935 (3.6G) [application/zip]\n",
            "Saving to: ‘nature_12K.zip’\n",
            "\n",
            "nature_12K.zip      100%[===================>]   3.55G  80.0MB/s    in 50s     \n",
            "\n",
            "2025-05-05 15:36:54 (73.1 MB/s) - ‘nature_12K.zip’ saved [3816687935/3816687935]\n",
            "\n"
          ]
        }
      ]
    },
    {
      "cell_type": "code",
      "execution_count": 8,
      "id": "dd832764",
      "metadata": {
        "colab": {
          "base_uri": "https://localhost:8080/"
        },
        "id": "dd832764",
        "outputId": "6450167a-5b1b-4f22-e71a-ed682aca9d1f"
      },
      "outputs": [
        {
          "output_type": "stream",
          "name": "stdout",
          "text": [
            "Data directory: inaturalist_12K\n"
          ]
        }
      ],
      "source": [
        "data_dir = 'inaturalist_12K'\n",
        "train_dir = os.path.join(data_dir, 'train')\n",
        "best_model_path = \"best_models\"\n",
        "os.makedirs(best_model_path, exist_ok=True)\n",
        "\n",
        "print(\"Data directory:\", data_dir)"
      ]
    },
    {
      "cell_type": "code",
      "source": [
        "\n",
        "\n",
        "def get_data_loaders(config):\n",
        "    # Constants\n",
        "    BATCH_SIZE = config.get(\"batch_size\", 64)\n",
        "    IMAGE_SIZE = 224\n",
        "\n",
        "\n",
        "    # Augmentation logic\n",
        "    if config.get(\"augment\", False):\n",
        "        print(\"Applying full data augmentation\")\n",
        "        transform_train = transforms.Compose([\n",
        "            transforms.Resize((IMAGE_SIZE, IMAGE_SIZE)),\n",
        "            transforms.RandomHorizontalFlip(),\n",
        "            transforms.RandomVerticalFlip(),\n",
        "            transforms.RandomRotation(20),\n",
        "            transforms.ColorJitter(brightness=0.3, contrast=0.3, saturation=0.3, hue=0.02),\n",
        "            transforms.RandomGrayscale(p=0.1),\n",
        "            transforms.RandomAffine(degrees=0, translate=(0.1, 0.1)),\n",
        "            transforms.ToTensor(),\n",
        "            transforms.Normalize([0.5], [0.5]),\n",
        "        ])\n",
        "    else:\n",
        "        print(\"Minimal preprocessing, no augmentation\")\n",
        "        transform_train = transforms.Compose([\n",
        "            transforms.Resize((IMAGE_SIZE, IMAGE_SIZE)),\n",
        "            transforms.ToTensor(),\n",
        "            transforms.Normalize([0.5], [0.5]),\n",
        "        ])\n",
        "\n",
        "    transform_val = transforms.Compose([\n",
        "        transforms.Resize((IMAGE_SIZE, IMAGE_SIZE)),\n",
        "        transforms.ToTensor(),\n",
        "        transforms.Normalize([0.5], [0.5]),\n",
        "    ])\n",
        "\n",
        "    # Load full training dataset\n",
        "    full_dataset = datasets.ImageFolder(root=train_dir, transform=transform_train)\n",
        "    targets = np.array(full_dataset.targets)\n",
        "\n",
        "    # Stratified split\n",
        "    sss = StratifiedShuffleSplit(n_splits=1, test_size=0.2, random_state=42)\n",
        "    train_idx, val_idx = next(sss.split(np.zeros(len(targets)), targets))\n",
        "\n",
        "    # Subsets with respective transforms\n",
        "    train_dataset = Subset(full_dataset, train_idx)\n",
        "    val_dataset = Subset(datasets.ImageFolder(root=train_dir, transform=transform_val), val_idx)\n",
        "\n",
        "    # DataLoaders\n",
        "    train_loader = DataLoader(train_dataset, batch_size=BATCH_SIZE, shuffle=True, num_workers=2)\n",
        "    val_loader = DataLoader(val_dataset, batch_size=BATCH_SIZE, shuffle=False, num_workers=2)\n",
        "\n",
        "    # Info\n",
        "    print(f\"Total images: {len(full_dataset)}\")\n",
        "    print(f\"Training set: {len(train_dataset)} images\")\n",
        "    print(f\"Validation set: {len(val_dataset)} images\")\n",
        "    print(f\"Number of classes: {len(full_dataset.classes)}\")\n",
        "\n",
        "    return train_loader, val_loader #, len(full_dataset.classes)"
      ],
      "metadata": {
        "id": "H6q7_c6uGeaU"
      },
      "id": "H6q7_c6uGeaU",
      "execution_count": 9,
      "outputs": []
    },
    {
      "cell_type": "code",
      "source": [
        "class SmallCNN(nn.Module):\n",
        "    def __init__(self, num_filters, activation_fn, kernel_size, dense_neurons, num_classes=1010, dropout_rate=0.2, batch_norm=False):\n",
        "        super().__init__()\n",
        "\n",
        "        act_fn = {\n",
        "            'relu': nn.ReLU(),\n",
        "            'gelu': nn.GELU(),\n",
        "            'silu': nn.SiLU(),\n",
        "            'mish': nn.Mish()\n",
        "        }[activation_fn]\n",
        "\n",
        "        layers = []\n",
        "        in_channels = 3\n",
        "\n",
        "        for nf in num_filters:\n",
        "            layers.append(nn.Conv2d(in_channels, nf, kernel_size=kernel_size, padding=kernel_size//2))\n",
        "            if batch_norm:\n",
        "                layers.append(nn.BatchNorm2d(nf))\n",
        "            layers.append(act_fn)\n",
        "            layers.append(nn.MaxPool2d(kernel_size=2))\n",
        "            in_channels = nf\n",
        "\n",
        "        self.feature_extractor = nn.Sequential(*layers)\n",
        "        self.flatten = nn.Flatten()\n",
        "        self.dropout = nn.Dropout(dropout_rate)\n",
        "        self.dense = nn.Linear(num_filters[-1] * 7 * 7, dense_neurons)\n",
        "        self.output = nn.Linear(dense_neurons, num_classes)\n",
        "\n",
        "    def forward(self, x):\n",
        "        x = self.feature_extractor(x)\n",
        "        x = self.flatten(x)\n",
        "        x = self.dropout(x)\n",
        "        x = self.dense(x)\n",
        "        x = self.output(x)\n",
        "        return x\n"
      ],
      "metadata": {
        "id": "OMLx2A-_Gm0l"
      },
      "id": "OMLx2A-_Gm0l",
      "execution_count": 10,
      "outputs": []
    },
    {
      "cell_type": "code",
      "source": [
        "def train_one_epoch(model, loader, optimizer, criterion, device):\n",
        "    model.train()\n",
        "    running_loss, correct, total = 0.0, 0, 0\n",
        "    for images, labels in tqdm(loader):\n",
        "        images, labels = images.to(device), labels.to(device)\n",
        "        optimizer.zero_grad()\n",
        "        outputs = model(images)\n",
        "        loss = criterion(outputs, labels)\n",
        "        loss.backward()\n",
        "        optimizer.step()\n",
        "        running_loss += loss.item() * images.size(0)\n",
        "        _, predicted = outputs.max(1)\n",
        "        correct += predicted.eq(labels).sum().item()\n",
        "        total += labels.size(0)\n",
        "    return running_loss / total, correct / total\n",
        "\n",
        "def evaluate(model, loader, criterion, device):\n",
        "    model.eval()\n",
        "    val_loss, correct, total = 0.0, 0, 0\n",
        "    with torch.no_grad():\n",
        "        for images, labels in loader:\n",
        "            images, labels = images.to(device), labels.to(device)\n",
        "            outputs = model(images)\n",
        "            loss = criterion(outputs, labels)\n",
        "            val_loss += loss.item() * images.size(0)\n",
        "            _, predicted = outputs.max(1)\n",
        "            correct += predicted.eq(labels).sum().item()\n",
        "            total += labels.size(0)\n",
        "    return val_loss / total, correct / total\n"
      ],
      "metadata": {
        "id": "d_fxAFyBHP89"
      },
      "id": "d_fxAFyBHP89",
      "execution_count": 11,
      "outputs": []
    },
    {
      "cell_type": "code",
      "source": [
        "PROJECT_NAME = \"Assignment2DL\"\n",
        "ENTITY_NAME = \"soumitrapy-iit-madras\""
      ],
      "metadata": {
        "id": "d6T4eZYpHRJz"
      },
      "id": "d6T4eZYpHRJz",
      "execution_count": 12,
      "outputs": []
    },
    {
      "cell_type": "code",
      "source": [
        "def sweep_train():\n",
        "    wandb.init(project=PROJECT_NAME, entity=ENTITY_NAME)\n",
        "    config = wandb.config\n",
        "    device = torch.device(\"cuda\" if torch.cuda.is_available() else \"cpu\")\n",
        "\n",
        "    # Compute num_filters based on filter_organization\n",
        "    num_layers = 5\n",
        "    if config.filter_organization == \"same\":\n",
        "        filters = [config.filters_base] * num_layers\n",
        "    elif config.filter_organization == \"double\":\n",
        "        filters = [config.filters_base * (2 ** i) for i in range(num_layers)]\n",
        "    elif config.filter_organization == \"half\":\n",
        "        # filters = [max(config.filters_base // (2 ** i), 1) for i in range(num_layers)]\n",
        "        filters = [config.filters_base * (2 ** i) for i in range(num_layers)]\n",
        "        filters = filters[::-1]  # Reverse the order\n",
        "    else:\n",
        "        raise ValueError(f\"Unknown filter organization: {config.filter_organization}\")\n",
        "\n",
        "    wandb.run.name = (\n",
        "        f\"fbase_{config.filters_base}_\"\n",
        "        f\"forg_{config.filter_organization}_\"\n",
        "        f\"act_{config.activation}_\"\n",
        "        f\"k_{config.kernel_size}_\"\n",
        "        f\"drop_{config.dropout}_\"\n",
        "        f\"bn_{config.batch_norm}_\"\n",
        "        f\"lr_{config.lr:.5f}_\"\n",
        "        f\"aug_{config.augment}_\"\n",
        "        f\"ep_{config.epochs}_\"\n",
        "        f\"bs_{config.batch_size}_\"\n",
        "        f\"n_{config.dense_neurons}\"\n",
        "    )\n",
        "    wandb.run.save()\n",
        "\n",
        "    # DataLoader\n",
        "    train_loader, val_loader = get_data_loaders(\n",
        "        {\n",
        "        \"batch_size\":config.batch_size,\n",
        "        \"augment\":config.augment\n",
        "        }\n",
        "    )\n",
        "\n",
        "    # Model\n",
        "    model = SmallCNN(\n",
        "        num_filters=filters,\n",
        "        activation_fn=config.activation,\n",
        "        kernel_size=config.kernel_size,\n",
        "        dense_neurons=config.dense_neurons,\n",
        "        dropout_rate=config.dropout,\n",
        "        batch_norm=config.batch_norm\n",
        "    ).to(device)\n",
        "\n",
        "    optimizer = optim.Adam(model.parameters(), lr=config.lr)\n",
        "    criterion = nn.CrossEntropyLoss()\n",
        "    best_val_acc = 0.0\n",
        "\n",
        "    for epoch in range(config.epochs):\n",
        "        train_loss, train_acc = train_one_epoch(model, train_loader, optimizer, criterion, device)\n",
        "        val_loss, val_acc = evaluate(model, val_loader, criterion, device)\n",
        "\n",
        "        wandb.log({\n",
        "            \"epoch\": epoch + 1,\n",
        "            \"train_loss\": train_loss,\n",
        "            \"train_accuracy\": train_acc,\n",
        "            \"val_loss\": val_loss,\n",
        "            \"val_accuracy\": val_acc\n",
        "        })\n",
        "        print(f\"Epoch {epoch + 1}/{config.epochs} - \"\n",
        "              f\"Train Loss: {train_loss:.4f}, Train Acc: {train_acc:.4f} - \"\n",
        "              f\"Val Loss: {val_loss:.4f}, Val Acc: {val_acc:.4f}\")\n",
        "\n",
        "        # Save best model\n",
        "        if val_acc > best_val_acc:\n",
        "            best_val_acc = val_acc\n",
        "            # torch.save(model.state_dict(), os.path.join(best_model_path, \"partA.pth\"))\n",
        "            torch.save(model, os.path.join(best_model_path, \"partA.pth\"))\n",
        "            wandb.save(\"best_model_A.pth\")\n"
      ],
      "metadata": {
        "id": "8C_x-TO7KiGH"
      },
      "id": "8C_x-TO7KiGH",
      "execution_count": 13,
      "outputs": []
    },
    {
      "cell_type": "code",
      "source": [
        "sweep_config = {\n",
        "    \"method\": \"bayes\",\n",
        "    \"metric\": {\"name\": \"val_accuracy\", \"goal\": \"maximize\"},\n",
        "    \"parameters\": {\n",
        "        \"filters_base\": {\"values\": [3, 8, 16, 32, 64]},\n",
        "        \"filter_organization\": {\"values\": [\"same\", \"double\", \"half\"]},\n",
        "        \"activation\": {\"values\": [\"relu\", \"gelu\", \"silu\", \"mish\"]},\n",
        "        \"kernel_size\": {\"values\": [3, 5]},\n",
        "        \"dense_neurons\": {\"values\": [256, 512]},\n",
        "        \"batch_norm\": {\"values\": [True, False]},\n",
        "        \"dropout\": {\"values\": [0.2, 0.3]},\n",
        "        \"lr\": {\"distribution\": \"uniform\", \"min\": 0.0001, \"max\": 0.01},\n",
        "        \"batch_size\": {\"values\": [32, 64]},\n",
        "        \"augment\": {\"values\": [True, False]},\n",
        "        \"epochs\": {\"values\": [5, 10, 15]}\n",
        "    }\n",
        "}\n",
        "sweep_id = wandb.sweep(sweep_config, project=PROJECT_NAME, entity=ENTITY_NAME)\n",
        "wandb.agent(sweep_id, function=sweep_train, count=60)  # Adjust count as needed\n",
        "wandb.finish()"
      ],
      "metadata": {
        "colab": {
          "base_uri": "https://localhost:8080/",
          "height": 817
        },
        "id": "MbcuAx1kLDg1",
        "outputId": "c8574b09-c9ac-4f67-a91e-320ca6c71d95"
      },
      "id": "MbcuAx1kLDg1",
      "execution_count": 15,
      "outputs": [
        {
          "output_type": "display_data",
          "data": {
            "text/plain": [
              "<IPython.core.display.Javascript object>"
            ],
            "application/javascript": [
              "\n",
              "        window._wandbApiKey = new Promise((resolve, reject) => {\n",
              "            function loadScript(url) {\n",
              "            return new Promise(function(resolve, reject) {\n",
              "                let newScript = document.createElement(\"script\");\n",
              "                newScript.onerror = reject;\n",
              "                newScript.onload = resolve;\n",
              "                document.body.appendChild(newScript);\n",
              "                newScript.src = url;\n",
              "            });\n",
              "            }\n",
              "            loadScript(\"https://cdn.jsdelivr.net/npm/postmate/build/postmate.min.js\").then(() => {\n",
              "            const iframe = document.createElement('iframe')\n",
              "            iframe.style.cssText = \"width:0;height:0;border:none\"\n",
              "            document.body.appendChild(iframe)\n",
              "            const handshake = new Postmate({\n",
              "                container: iframe,\n",
              "                url: 'https://wandb.ai/authorize'\n",
              "            });\n",
              "            const timeout = setTimeout(() => reject(\"Couldn't auto authenticate\"), 5000)\n",
              "            handshake.then(function(child) {\n",
              "                child.on('authorize', data => {\n",
              "                    clearTimeout(timeout)\n",
              "                    resolve(data)\n",
              "                });\n",
              "            });\n",
              "            })\n",
              "        });\n",
              "    "
            ]
          },
          "metadata": {}
        },
        {
          "output_type": "stream",
          "name": "stderr",
          "text": [
            "\u001b[34m\u001b[1mwandb\u001b[0m: Logging into wandb.ai. (Learn how to deploy a W&B server locally: https://wandb.me/wandb-server)\n",
            "\u001b[34m\u001b[1mwandb\u001b[0m: You can find your API key in your browser here: https://wandb.ai/authorize?ref=models\n",
            "wandb: Paste an API key from your profile and hit enter:"
          ]
        },
        {
          "name": "stdout",
          "output_type": "stream",
          "text": [
            " ··········\n"
          ]
        },
        {
          "output_type": "stream",
          "name": "stderr",
          "text": [
            "\u001b[34m\u001b[1mwandb\u001b[0m: \u001b[33mWARNING\u001b[0m If you're specifying your api key in code, ensure this code is not shared publicly.\n",
            "\u001b[34m\u001b[1mwandb\u001b[0m: \u001b[33mWARNING\u001b[0m Consider setting the WANDB_API_KEY environment variable, or running `wandb login` from the command line.\n",
            "\u001b[34m\u001b[1mwandb\u001b[0m: No netrc file found, creating one.\n",
            "\u001b[34m\u001b[1mwandb\u001b[0m: Appending key for api.wandb.ai to your netrc file: /root/.netrc\n"
          ]
        },
        {
          "output_type": "stream",
          "name": "stdout",
          "text": [
            "Create sweep with ID: 8cuzzwge\n",
            "Sweep URL: https://wandb.ai/soumitrapy-iit-madras/Assignment2DL/sweeps/8cuzzwge\n"
          ]
        },
        {
          "output_type": "stream",
          "name": "stderr",
          "text": [
            "\u001b[34m\u001b[1mwandb\u001b[0m: Agent Starting Run: h0vcseu6 with config:\n",
            "\u001b[34m\u001b[1mwandb\u001b[0m: \tactivation: gelu\n",
            "\u001b[34m\u001b[1mwandb\u001b[0m: \taugment: True\n",
            "\u001b[34m\u001b[1mwandb\u001b[0m: \tbatch_norm: False\n",
            "\u001b[34m\u001b[1mwandb\u001b[0m: \tbatch_size: 64\n",
            "\u001b[34m\u001b[1mwandb\u001b[0m: \tdense_neurons: 256\n",
            "\u001b[34m\u001b[1mwandb\u001b[0m: \tdropout: 0.3\n",
            "\u001b[34m\u001b[1mwandb\u001b[0m: \tepochs: 15\n",
            "\u001b[34m\u001b[1mwandb\u001b[0m: \tfilter_organization: same\n",
            "\u001b[34m\u001b[1mwandb\u001b[0m: \tfilters_base: 3\n",
            "\u001b[34m\u001b[1mwandb\u001b[0m: \tkernel_size: 5\n",
            "\u001b[34m\u001b[1mwandb\u001b[0m: \tlr: 0.004151943554040556\n",
            "\u001b[34m\u001b[1mwandb\u001b[0m: Currently logged in as: \u001b[33msoumitrapy\u001b[0m (\u001b[33msoumitrapy-iit-madras\u001b[0m) to \u001b[32mhttps://api.wandb.ai\u001b[0m. Use \u001b[1m`wandb login --relogin`\u001b[0m to force relogin\n"
          ]
        },
        {
          "output_type": "display_data",
          "data": {
            "text/plain": [
              "<IPython.core.display.HTML object>"
            ],
            "text/html": [
              "Ignoring project 'Assignment2DL' when running a sweep."
            ]
          },
          "metadata": {}
        },
        {
          "output_type": "display_data",
          "data": {
            "text/plain": [
              "<IPython.core.display.HTML object>"
            ],
            "text/html": [
              "Ignoring entity 'soumitrapy-iit-madras' when running a sweep."
            ]
          },
          "metadata": {}
        },
        {
          "output_type": "display_data",
          "data": {
            "text/plain": [
              "<IPython.core.display.HTML object>"
            ],
            "text/html": [
              "Tracking run with wandb version 0.19.10"
            ]
          },
          "metadata": {}
        },
        {
          "output_type": "display_data",
          "data": {
            "text/plain": [
              "<IPython.core.display.HTML object>"
            ],
            "text/html": [
              "Run data is saved locally in <code>/content/wandb/run-20250505_160059-h0vcseu6</code>"
            ]
          },
          "metadata": {}
        },
        {
          "output_type": "display_data",
          "data": {
            "text/plain": [
              "<IPython.core.display.HTML object>"
            ],
            "text/html": [
              "Syncing run <strong><a href='https://wandb.ai/soumitrapy-iit-madras/Assignment2DL/runs/h0vcseu6' target=\"_blank\">radiant-sweep-1</a></strong> to <a href='https://wandb.ai/soumitrapy-iit-madras/Assignment2DL' target=\"_blank\">Weights & Biases</a> (<a href='https://wandb.me/developer-guide' target=\"_blank\">docs</a>)<br>Sweep page: <a href='https://wandb.ai/soumitrapy-iit-madras/Assignment2DL/sweeps/8cuzzwge' target=\"_blank\">https://wandb.ai/soumitrapy-iit-madras/Assignment2DL/sweeps/8cuzzwge</a>"
            ]
          },
          "metadata": {}
        },
        {
          "output_type": "display_data",
          "data": {
            "text/plain": [
              "<IPython.core.display.HTML object>"
            ],
            "text/html": [
              " View project at <a href='https://wandb.ai/soumitrapy-iit-madras/Assignment2DL' target=\"_blank\">https://wandb.ai/soumitrapy-iit-madras/Assignment2DL</a>"
            ]
          },
          "metadata": {}
        },
        {
          "output_type": "display_data",
          "data": {
            "text/plain": [
              "<IPython.core.display.HTML object>"
            ],
            "text/html": [
              " View sweep at <a href='https://wandb.ai/soumitrapy-iit-madras/Assignment2DL/sweeps/8cuzzwge' target=\"_blank\">https://wandb.ai/soumitrapy-iit-madras/Assignment2DL/sweeps/8cuzzwge</a>"
            ]
          },
          "metadata": {}
        },
        {
          "output_type": "display_data",
          "data": {
            "text/plain": [
              "<IPython.core.display.HTML object>"
            ],
            "text/html": [
              " View run at <a href='https://wandb.ai/soumitrapy-iit-madras/Assignment2DL/runs/h0vcseu6' target=\"_blank\">https://wandb.ai/soumitrapy-iit-madras/Assignment2DL/runs/h0vcseu6</a>"
            ]
          },
          "metadata": {}
        },
        {
          "output_type": "stream",
          "name": "stderr",
          "text": [
            "\u001b[34m\u001b[1mwandb\u001b[0m: \u001b[33mWARNING\u001b[0m Calling wandb.run.save without any arguments is deprecated.Changes to attributes are automatically persisted.\n"
          ]
        },
        {
          "output_type": "stream",
          "name": "stdout",
          "text": [
            "Applying full data augmentation\n",
            "Total images: 9999\n",
            "Training set: 7999 images\n",
            "Validation set: 2000 images\n",
            "Number of classes: 10\n"
          ]
        },
        {
          "output_type": "stream",
          "name": "stderr",
          "text": [
            " 10%|█         | 13/125 [00:27<03:05,  1.66s/it]\u001b[34m\u001b[1mwandb\u001b[0m: Ctrl + C detected. Stopping sweep.\n"
          ]
        },
        {
          "output_type": "display_data",
          "data": {
            "text/plain": [
              "<IPython.core.display.HTML object>"
            ],
            "text/html": []
          },
          "metadata": {}
        },
        {
          "output_type": "display_data",
          "data": {
            "text/plain": [
              "<IPython.core.display.HTML object>"
            ],
            "text/html": [
              " View run <strong style=\"color:#cdcd00\">fbase_3_forg_same_act_gelu_k_5_drop_0.3_bn_False_lr_0.00415_aug_True_ep_15_bs_64_n_256</strong> at: <a href='https://wandb.ai/soumitrapy-iit-madras/Assignment2DL/runs/h0vcseu6' target=\"_blank\">https://wandb.ai/soumitrapy-iit-madras/Assignment2DL/runs/h0vcseu6</a><br> View project at: <a href='https://wandb.ai/soumitrapy-iit-madras/Assignment2DL' target=\"_blank\">https://wandb.ai/soumitrapy-iit-madras/Assignment2DL</a><br>Synced 5 W&B file(s), 0 media file(s), 0 artifact file(s) and 0 other file(s)"
            ]
          },
          "metadata": {}
        },
        {
          "output_type": "display_data",
          "data": {
            "text/plain": [
              "<IPython.core.display.HTML object>"
            ],
            "text/html": [
              "Find logs at: <code>./wandb/run-20250505_160059-h0vcseu6/logs</code>"
            ]
          },
          "metadata": {}
        }
      ]
    },
    {
      "cell_type": "code",
      "source": [],
      "metadata": {
        "id": "fhs5keLCLHRK"
      },
      "id": "fhs5keLCLHRK",
      "execution_count": null,
      "outputs": []
    }
  ],
  "metadata": {
    "kernelspec": {
      "display_name": "base",
      "language": "python",
      "name": "python3"
    },
    "language_info": {
      "codemirror_mode": {
        "name": "ipython",
        "version": 3
      },
      "file_extension": ".py",
      "mimetype": "text/x-python",
      "name": "python",
      "nbconvert_exporter": "python",
      "pygments_lexer": "ipython3",
      "version": "3.12.9"
    },
    "colab": {
      "provenance": []
    }
  },
  "nbformat": 4,
  "nbformat_minor": 5
}